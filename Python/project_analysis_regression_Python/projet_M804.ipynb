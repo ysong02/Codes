{
 "cells": [
  {
   "cell_type": "code",
   "execution_count": 169,
   "metadata": {},
   "outputs": [],
   "source": [
    "import numpy as np\n",
    "import pandas as pd \n",
    "import matplotlib.pyplot as plt\n",
    "import scipy.io as sio\n",
    "import scipy.stats as stats"
   ]
  },
  {
   "cell_type": "code",
   "execution_count": 3,
   "metadata": {},
   "outputs": [],
   "source": [
    "df= pd.read_csv('data.csv') #原始数据"
   ]
  },
  {
   "cell_type": "code",
   "execution_count": 4,
   "metadata": {},
   "outputs": [
    {
     "name": "stdout",
     "output_type": "stream",
     "text": [
      "       Unnamed: 0     No  year  month  day  hour  pm2.5  DEWP  TEMP    PRES  \\\n",
      "0              24     25  2010      1    2     0  129.0   -16  -4.0  1020.0   \n",
      "1              25     26  2010      1    2     1  148.0   -15  -4.0  1020.0   \n",
      "2              26     27  2010      1    2     2  159.0   -11  -5.0  1021.0   \n",
      "3              27     28  2010      1    2     3  181.0    -7  -5.0  1022.0   \n",
      "4              28     29  2010      1    2     4  138.0    -7  -5.0  1022.0   \n",
      "...           ...    ...   ...    ...  ...   ...    ...   ...   ...     ...   \n",
      "41752       43819  43820  2014     12   31    19    8.0   -23  -2.0  1034.0   \n",
      "41753       43820  43821  2014     12   31    20   10.0   -22  -3.0  1034.0   \n",
      "41754       43821  43822  2014     12   31    21   10.0   -22  -3.0  1034.0   \n",
      "41755       43822  43823  2014     12   31    22    8.0   -22  -4.0  1034.0   \n",
      "41756       43823  43824  2014     12   31    23   12.0   -21  -3.0  1034.0   \n",
      "\n",
      "      cbwd     Iws  Is  Ir  \n",
      "0       SE    1.79   0   0  \n",
      "1       SE    2.68   0   0  \n",
      "2       SE    3.57   0   0  \n",
      "3       SE    5.36   1   0  \n",
      "4       SE    6.25   2   0  \n",
      "...    ...     ...  ..  ..  \n",
      "41752   NW  231.97   0   0  \n",
      "41753   NW  237.78   0   0  \n",
      "41754   NW  242.70   0   0  \n",
      "41755   NW  246.72   0   0  \n",
      "41756   NW  249.85   0   0  \n",
      "\n",
      "[41757 rows x 14 columns]\n"
     ]
    }
   ],
   "source": [
    "data=df.dropna(axis = 0) #把数据不全的删掉，41757 rows x 13 columns\n",
    "data.to_csv('data.csv')\n",
    "print(data)"
   ]
  },
  {
   "cell_type": "code",
   "execution_count": 163,
   "metadata": {},
   "outputs": [
    {
     "name": "stdout",
     "output_type": "stream",
     "text": [
      "       Unnamed: 0  month  day  hour  pm2.5  TEMP    PRES cbwd    Iws  Is  Ir\n",
      "8091         8784      1    2     0   36.0  -7.0  1037.0   NW  75.10   0   0\n",
      "8092         8785      1    2     1   31.0  -7.0  1037.0   NE   4.02   0   0\n",
      "8093         8786      1    2     2   20.0  -7.0  1037.0   NE   8.94   0   0\n",
      "8094         8787      1    2     3   19.0  -8.0  1037.0   NW   4.02   0   0\n",
      "8095         8788      1    2     4   18.0  -8.0  1037.0   NE   4.02   0   0\n",
      "...           ...    ...  ...   ...    ...   ...     ...  ...    ...  ..  ..\n",
      "16118       17515     12   31    19  209.0  -3.0  1029.0   cv   2.68   0   0\n",
      "16119       17516     12   31    20  217.0  -6.0  1029.0   NE   0.89   0   0\n",
      "16120       17517     12   31    21  223.0  -6.0  1030.0   cv   0.89   0   0\n",
      "16121       17518     12   31    22  251.0  -6.0  1030.0   NE   1.79   0   0\n",
      "16122       17519     12   31    23  283.0  -6.0  1030.0   cv   0.89   0   0\n",
      "\n",
      "[8032 rows x 11 columns]\n"
     ]
    }
   ],
   "source": [
    "data2=data.drop([\"cbwd\",'No',],axis=1)\n",
    "data2.to_csv('data02.csv',index=None)\n",
    "#print(data2)\n",
    "data3= data[(data.year==2011)]    #选了2011年的数据\n",
    "data3= data3.drop(['No','year','DEWP'],axis=1)\n",
    "#data3.to_csv('data03.csv')\n",
    "print(data3)"
   ]
  },
  {
   "cell_type": "code",
   "execution_count": 198,
   "metadata": {},
   "outputs": [
    {
     "name": "stdout",
     "output_type": "stream",
     "text": [
      "148 72 30 84\n"
     ]
    }
   ],
   "source": [
    "datase= data3[(data3.cbwd=='SE')&(data3.hour==21)]\n",
    "datacv= data3[(data3.cbwd=='cv')&(data3.hour==21)]\n",
    "datasw= data3[(data3.cbwd=='SW')&(data3.hour==21)]\n",
    "datane= data3[(data3.cbwd=='NE')&(data3.hour==21)]\n",
    "datanw= data3[(data3.cbwd=='NW')&(data3.hour==21)]\n",
    "#print(len(datase),(len(datacv)),(len(datane)),len(datanw))\n",
    "datase.to_csv('data11.csv')\n",
    "datacv.to_csv('data12.csv')\n",
    "datasw.to_csv('data13.csv')\n",
    "datane.to_csv('data14.csv')\n",
    "datanw.to_csv('data15.csv')"
   ]
  },
  {
   "cell_type": "code",
   "execution_count": 188,
   "metadata": {},
   "outputs": [
    {
     "name": "stdout",
     "output_type": "stream",
     "text": [
      "112.29054054054055 164.65277777777777 nan 113.63333333333334 59.642857142857146\n"
     ]
    }
   ],
   "source": [
    "mse= np.mean(datase['pm2.5'])\n",
    "mcv= np.mean(datacv['pm2.5'])\n",
    "msw= np.mean(datasw['pm2.5'])\n",
    "mne= np.mean(datane['pm2.5'])\n",
    "mnw= np.mean(datanw['pm2.5'])\n",
    "print(mse,mcv,msw,mne,mnw)"
   ]
  },
  {
   "cell_type": "code",
   "execution_count": 197,
   "metadata": {},
   "outputs": [
    {
     "name": "stdout",
     "output_type": "stream",
     "text": [
      "1.1514261537115544e-05 4.484998048658145\n"
     ]
    }
   ],
   "source": [
    "x= datase['pm2.5']\n",
    "y= datanw['pm2.5']\n",
    "nx=len(x)\n",
    "ny=len(y)\n",
    "mx= mse\n",
    "my= mnw\n",
    "Sx = np.sum(x**2) - np.sum(x)**2/nx\n",
    "Sy = np.sum(y**2) - np.sum(y)**2/ny\n",
    "shat = (Sx + Sy)/(nx+ny-2)\n",
    "t = (mx-my)/np.sqrt(shat*(1/nx+1/ny))\n",
    "pval =2*(1 - stats.t.cdf(np.abs(t),nx+ny-2))\n",
    "print(pval,t)"
   ]
  },
  {
   "cell_type": "code",
   "execution_count": 179,
   "metadata": {},
   "outputs": [],
   "source": [
    "O = np.array([135, 118,95,60])\n",
    "p = np.array([.333, .2, .1, .36])\n",
    "T = p * np.sum(O)\n",
    "           \n",
    "T = np.outer(n, m) / np.sum(n)\n",
    "T"
   ]
  },
  {
   "cell_type": "code",
   "execution_count": 177,
   "metadata": {},
   "outputs": [
    {
     "data": {
      "text/plain": [
       "0.0"
      ]
     },
     "execution_count": 177,
     "metadata": {},
     "output_type": "execute_result"
    }
   ],
   "source": [
    "D = np.sum((O-T)**2/T)\n",
    "ddl = 4-1\n",
    "pval = 1 - stats.chi2.cdf(D,ddl)\n",
    "pval"
   ]
  },
  {
   "cell_type": "code",
   "execution_count": 159,
   "metadata": {},
   "outputs": [
    {
     "name": "stderr",
     "output_type": "stream",
     "text": [
      "/Users/mac/opt/anaconda3/lib/python3.7/site-packages/ipykernel_launcher.py:1: UserWarning: Boolean Series key will be reindexed to match DataFrame index.\n",
      "  \"\"\"Entry point for launching an IPython kernel.\n"
     ]
    }
   ],
   "source": [
    "data4= data3[(data3.Is!=0)&(data['pm2.5']<150)]  #ls 不等于零\n",
    "#data4.to_csv('data04.csv')"
   ]
  },
  {
   "cell_type": "code",
   "execution_count": 10,
   "metadata": {},
   "outputs": [],
   "source": [
    "data5= data3[data3.Ir!=0]  #lr 不等于零\n",
    "data5.to_csv('data04.csv')"
   ]
  },
  {
   "cell_type": "code",
   "execution_count": 199,
   "metadata": {},
   "outputs": [
    {
     "name": "stdout",
     "output_type": "stream",
     "text": [
      "       Unnamed: 0  month  day  hour  pm2.5  TEMP    PRES cbwd    Iws  Is  Ir\n",
      "13810       15072      9   21     0   57.0  12.0  1017.0   cv   2.23   0   0\n",
      "13811       15073      9   21     1   47.0  10.0  1016.0   cv   3.12   0   0\n",
      "13812       15074      9   21     2   60.0  10.0  1016.0   NW   1.79   0   0\n",
      "13813       15075      9   21     3   66.0  11.0  1016.0   NW   3.58   0   0\n",
      "13814       15076      9   21     4   37.0  10.0  1016.0   NW   6.71   0   0\n",
      "13815       15077      9   21     5   45.0   9.0  1016.0   NW   9.84   0   0\n",
      "13816       15078      9   21     6   57.0  10.0  1016.0   NW  11.63   0   0\n",
      "13817       15079      9   21     7   58.0  12.0  1017.0   NW  14.76   0   0\n",
      "13818       15080      9   21     8   45.0  15.0  1017.0   NW  18.78   0   0\n",
      "13819       15081      9   21     9   30.0  19.0  1017.0   NE   4.02   0   0\n",
      "13820       15082      9   21    10   38.0  21.0  1017.0   NW   3.13   0   0\n",
      "13821       15083      9   21    11   31.0  23.0  1016.0   NW   6.26   0   0\n",
      "13822       15084      9   21    12   18.0  25.0  1015.0   NW  10.28   0   0\n",
      "13823       15085      9   21    13   14.0  26.0  1015.0   NE   3.13   0   0\n",
      "13824       15086      9   21    14   18.0  26.0  1014.0   NE   6.26   0   0\n",
      "13825       15087      9   21    15   21.0  27.0  1013.0   NE   8.05   0   0\n",
      "13826       15088      9   21    16   18.0  26.0  1012.0   SE   1.79   0   0\n",
      "13827       15089      9   21    17   19.0  25.0  1012.0   SE   3.58   0   0\n",
      "13828       15090      9   21    18   28.0  22.0  1013.0   SE   6.71   0   0\n",
      "13829       15091      9   21    19   37.0  22.0  1013.0   SE   9.84   0   0\n",
      "13830       15092      9   21    20   36.0  22.0  1014.0   SE  13.86   0   0\n",
      "13831       15093      9   21    21   50.0  15.0  1014.0   cv   0.89   0   0\n",
      "13832       15094      9   21    22   50.0  13.0  1014.0   cv   1.78   0   0\n",
      "13833       15095      9   21    23   68.0  13.0  1014.0   cv   2.67   0   0\n"
     ]
    },
    {
     "name": "stderr",
     "output_type": "stream",
     "text": [
      "/Users/mac/opt/anaconda3/lib/python3.7/site-packages/ipykernel_launcher.py:1: UserWarning: Boolean Series key will be reindexed to match DataFrame index.\n",
      "  \"\"\"Entry point for launching an IPython kernel.\n",
      "/Users/mac/opt/anaconda3/lib/python3.7/site-packages/ipykernel_launcher.py:3: UserWarning: Boolean Series key will be reindexed to match DataFrame index.\n",
      "  This is separate from the ipykernel package so we can avoid doing imports until\n"
     ]
    }
   ],
   "source": [
    "data6=data3[data.hour==14]  # 9.21 温度3.11 压强\n",
    "#data7=data3[((data.day==21)&(data.month==10))|((data.day==29)&(data.month==9))]\n",
    "data9=data3[((data.month==9)&(data.day==21))]\n",
    "print(data9)"
   ]
  },
  {
   "cell_type": "code",
   "execution_count": 209,
   "metadata": {},
   "outputs": [],
   "source": [
    "y= data9['pm2.5'] #所有pm2.5数值 （根据用的data不一样要换不同data，现在是data5\n",
    "\n",
    "def regression (variable):\n",
    "    x= data9[variable]   #换的时候这里也要改一下 data\n",
    "    sx2 = np.sum((x-np.mean(x))**2)\n",
    "    sy2 = np.sum((y-np.mean(y))**2)\n",
    "    sxy=((x-np.mean(x)).T @ (y-np.mean(y)))\n",
    "    a = sxy/sx2\n",
    "    b = np.mean(y) - a*np.mean(x)\n",
    "    n = len(x)\n",
    "   # a1 = (n*x.T@y - np.sum(x)*np.sum(y)) / (n*x.T@x - np.sum(x)*np.sum(x))\n",
    "  #  a2 = ((x-np.mean(x)).T @ y ) / ((x-np.mean(x)).T @ (x-np.mean(x)))\n",
    "    print('a=',a,'b=',b)\n",
    "    xm = np.min(x);\n",
    "    xM = np.max(x);\n",
    "    ym = a*xm+b;\n",
    "    yM = a*xM+b;\n",
    "    plt.plot([xm,xM],[ym,yM],'gv-', linewidth=2)\n",
    "    plt.plot(x,y,'b+')\n",
    "    plt.show()\n",
    "    yp = a*x+b\n",
    "    e = y - yp\n",
    "    SCT = np.sum((y-np.mean(y))**2)  # Somme des carrés totaux\n",
    "    SCR = np.sum(e**2)  # Somme des carrés des résidus\n",
    "    SCM = np.sum(((y-e)-np.mean(y))**2)    # Somme des carrés de la partie expliquée\n",
    "    SCT, SCM, SCR\n",
    "    R2 = 1- SCR/SCT\n",
    "    print('R2=',R2)\n",
    "    "
   ]
  },
  {
   "cell_type": "code",
   "execution_count": 210,
   "metadata": {},
   "outputs": [
    {
     "name": "stdout",
     "output_type": "stream",
     "text": [
      "a= -2.2233969986357436 b= 78.7800136425648\n"
     ]
    },
    {
     "data": {
      "image/png": "[encoded data removed]",
      "text/plain": [
       "<Figure size 432x288 with 1 Axes>"
      ]
     },
     "metadata": {
      "needs_background": "light"
     },
     "output_type": "display_data"
    },
    {
     "name": "stdout",
     "output_type": "stream",
     "text": [
      "R2= 0.7610966726583916\n"
     ]
    }
   ],
   "source": [
    "regression ('TEMP')"
   ]
  },
  {
   "cell_type": "code",
   "execution_count": 208,
   "metadata": {},
   "outputs": [
    {
     "data": {
      "text/plain": [
       "(-1940.27316415159, 0.0)"
      ]
     },
     "execution_count": 208,
     "metadata": {},
     "output_type": "execute_result"
    }
   ],
   "source": [
    "x= data9['TEMP']\n",
    "a= -2.223\n",
    "b= 78.78\n",
    "var= (1/(len(x)-2))*np.sum(y-a*x-b)**2\n",
    "sx2 = np.sum((x-np.mean(x))**2)\n",
    "t= a/(np.sqrt(var/sx2))\n",
    "pval =2*(1 - stats.t.cdf(np.abs(t),nx+ny-2))\n",
    "t,pval"
   ]
  },
  {
   "cell_type": "code",
   "execution_count": 158,
   "metadata": {},
   "outputs": [
    {
     "name": "stdout",
     "output_type": "stream",
     "text": [
      "a= 2.48323793949305 b= -2229.941946034342\n"
     ]
    },
    {
     "data": {
      "image/png": "[encoded data removed]",
      "text/plain": [
       "<Figure size 432x288 with 1 Axes>"
      ]
     },
     "metadata": {
      "needs_background": "light"
     },
     "output_type": "display_data"
    },
    {
     "name": "stdout",
     "output_type": "stream",
     "text": [
      "R2= 0.004475619627935745\n"
     ]
    }
   ],
   "source": [
    "regression ('PRES')"
   ]
  },
  {
   "cell_type": "code",
   "execution_count": 161,
   "metadata": {},
   "outputs": [
    {
     "name": "stdout",
     "output_type": "stream",
     "text": [
      "a= 2.200563450304512 b= 40.07275137755313\n"
     ]
    },
    {
     "data": {
      "image/png": "[encoded data removed]",
      "text/plain": [
       "<Figure size 432x288 with 1 Axes>"
      ]
     },
     "metadata": {
      "needs_background": "light"
     },
     "output_type": "display_data"
    },
    {
     "name": "stdout",
     "output_type": "stream",
     "text": [
      "R2= 0.4045124468776612\n"
     ]
    }
   ],
   "source": [
    "regression ('Is')"
   ]
  },
  {
   "cell_type": "code",
   "execution_count": 227,
   "metadata": {},
   "outputs": [
    {
     "name": "stdout",
     "output_type": "stream",
     "text": [
      "a= -4.890129719544894 b= 98.5435683745199\n"
     ]
    },
    {
     "data": {
      "image/png": "[encoded data removed]",
      "text/plain": [
       "<Figure size 432x288 with 1 Axes>"
      ]
     },
     "metadata": {
      "needs_background": "light"
     },
     "output_type": "display_data"
    },
    {
     "name": "stdout",
     "output_type": "stream",
     "text": [
      "R2= 0.08778586265421162\n"
     ]
    }
   ],
   "source": [
    "regression('Ir')"
   ]
  },
  {
   "cell_type": "code",
   "execution_count": 172,
   "metadata": {},
   "outputs": [
    {
     "data": {
      "text/plain": [
       "8784     -60.316745\n",
       "8785     -65.316745\n",
       "8786     -76.316745\n",
       "8787     -77.174814\n",
       "8788     -78.174814\n",
       "            ...    \n",
       "17515    112.115527\n",
       "17516    120.541323\n",
       "17517    126.541323\n",
       "17518    154.541323\n",
       "17519    186.541323\n",
       "Length: 8032, dtype: float64"
      ]
     },
     "execution_count": 172,
     "metadata": {},
     "output_type": "execute_result"
    }
   ],
   "source": [
    "yp = a*x+b\n",
    "e = y - yp\n",
    "e"
   ]
  },
  {
   "cell_type": "code",
   "execution_count": 173,
   "metadata": {},
   "outputs": [
    {
     "data": {
      "text/plain": [
       "8641.047069520628"
      ]
     },
     "execution_count": 173,
     "metadata": {},
     "output_type": "execute_result"
    }
   ],
   "source": [
    "n = len(e)\n",
    "sigma2_hat = 1/(n-2)* e.T@e\n",
    "sigma2_hat"
   ]
  },
  {
   "cell_type": "code",
   "execution_count": 82,
   "metadata": {},
   "outputs": [],
   "source": [
    "def extractlow(year):\n",
    "    global timelow\n",
    "    time = data[(data.year==year)]\n",
    "    timelow = time[(time['pm2.5'])<35]\n",
    "    return timelow\n",
    "time2010low= abstractlow(2010)\n",
    "time2011low= abstractlow(2011)\n",
    "time2012low= abstractlow(2012)\n",
    "time2013low= abstractlow(2013)\n",
    "time2014low= abstractlow(2014) \n",
    "timealllow= data[(data['pm2.5'])<35]"
   ]
  },
  {
   "cell_type": "code",
   "execution_count": 83,
   "metadata": {},
   "outputs": [],
   "source": [
    "#重复做 polluting episode 和 strongly high pm2.5\n",
    "def extractmid(year):\n",
    "    global timemid\n",
    "    time= data[(data.year==year)]\n",
    "    timemid=time[(time['pm2.5'])<=150]\n",
    "    return timemid\n",
    "time2010mid= abstractmid(2010)\n",
    "time2011mid= abstractmid(2011)\n",
    "time2012mid= abstractmid(2012)\n",
    "time2013mid= abstractmid(2013)\n",
    "time2014mid= abstractmid(2014) \n",
    "timeallmid= data[(data['pm2.5'])<=150]"
   ]
  },
  {
   "cell_type": "code",
   "execution_count": 84,
   "metadata": {},
   "outputs": [],
   "source": [
    "def extracthigh(year):\n",
    "    global timehigh\n",
    "    time= data[(data.year==year)]\n",
    "    timehigh=time[(time['pm2.5'])>150]\n",
    "    return timehigh\n",
    "time2010high= abstracthigh(2010)\n",
    "time2011high= abstracthigh(2011)\n",
    "time2012high= abstracthigh(2012)\n",
    "time2013high= abstracthigh(2013)\n",
    "time2014high= abstracthigh(2014) \n",
    "timeallhigh= data[(data['pm2.5'])>150]"
   ]
  },
  {
   "cell_type": "code",
   "execution_count": 85,
   "metadata": {},
   "outputs": [],
   "source": [
    "pmlow=time2010low+time2011low+time2012low+time2013low+time2014low+timealllow #所有小于35的pm2.5数据\n",
    "pmmid=time2010mid+time2011mid+time2012mid+time2013mid+time2014mid+timeallmid-pmlow #所有大于35小于150的pm2.5数据\n",
    "pmhigh=data-pmmid #所有大于150 的pm2.5数据"
   ]
  },
  {
   "cell_type": "code",
   "execution_count": 86,
   "metadata": {},
   "outputs": [
    {
     "data": {
      "image/png": "[encoded data removed]",
      "text/plain": [
       "<Figure size 720x360 with 1 Axes>"
      ]
     },
     "metadata": {
      "needs_background": "light"
     },
     "output_type": "display_data"
    }
   ],
   "source": [
    "plt.figure(figsize=(10,5))\n",
    "plt.title('boxplot for low pm2.5 (pm2.5<35) ',fontsize=20)\n",
    "labels = '2010','2011','2012','2013','2014','all'\n",
    "plt.boxplot([time2010low['pm2.5'], time2011low['pm2.5'], time2012low['pm2.5'], time2013low['pm2.5'],time2014low['pm2.5'],timealllow['pm2.5']], labels = labels,patch_artist = True,boxprops = {'color':'black','facecolor':'lightgreen'})\n",
    "plt.show()"
   ]
  },
  {
   "cell_type": "code",
   "execution_count": 87,
   "metadata": {},
   "outputs": [
    {
     "data": {
      "image/png": "[encoded data removed]",
      "text/plain": [
       "<Figure size 720x360 with 1 Axes>"
      ]
     },
     "metadata": {
      "needs_background": "light"
     },
     "output_type": "display_data"
    }
   ],
   "source": [
    "plt.figure(figsize=(10,5))\n",
    "plt.title('boxplot for polluting episode (35<=pm2.5<=150) ',fontsize=20)\n",
    "labels = '2010','2011','2012','2013','2014','all'\n",
    "plt.boxplot([time2010mid['pm2.5'], time2011mid['pm2.5'], time2012mid['pm2.5'], time2013mid['pm2.5'],time2014mid['pm2.5'],timeallmid['pm2.5']], labels = labels,patch_artist = True,boxprops = {'color':'black','facecolor':'lightyellow'})\n",
    "plt.show()"
   ]
  },
  {
   "cell_type": "code",
   "execution_count": 88,
   "metadata": {},
   "outputs": [
    {
     "data": {
      "image/png": "[encoded data removed]",
      "text/plain": [
       "<Figure size 720x360 with 1 Axes>"
      ]
     },
     "metadata": {
      "needs_background": "light"
     },
     "output_type": "display_data"
    }
   ],
   "source": [
    "plt.figure(figsize=(10,5))\n",
    "plt.title('boxplot for strongly high pm2.5 (pm2.5>150) ',fontsize=20)\n",
    "labels = '2010','2011','2012','2013','2014','all'\n",
    "plt.boxplot([time2010high['pm2.5'], time2011high['pm2.5'], time2012high['pm2.5'], time2013high['pm2.5'],time2014high['pm2.5'],timeallhigh['pm2.5']], labels = labels,patch_artist = True,boxprops = {'color':'black','facecolor':'pink'})\n",
    "plt.show()"
   ]
  },
  {
   "cell_type": "markdown",
   "metadata": {},
   "source": [
    "make the PCA(Principal Component Analysis) 　 "
   ]
  },
  {
   "cell_type": "code",
   "execution_count": 115,
   "metadata": {},
   "outputs": [
    {
     "name": "stdout",
     "output_type": "stream",
     "text": [
      "[[2.0100e+03 1.0000e+00 2.0000e+00 ... 1.7900e+00 0.0000e+00 0.0000e+00]\n",
      " [2.0100e+03 1.0000e+00 2.0000e+00 ... 2.6800e+00 0.0000e+00 0.0000e+00]\n",
      " [2.0100e+03 1.0000e+00 2.0000e+00 ... 3.5700e+00 0.0000e+00 0.0000e+00]\n",
      " ...\n",
      " [2.0140e+03 1.2000e+01 3.1000e+01 ... 2.4270e+02 0.0000e+00 0.0000e+00]\n",
      " [2.0140e+03 1.2000e+01 3.1000e+01 ... 2.4672e+02 0.0000e+00 0.0000e+00]\n",
      " [2.0140e+03 1.2000e+01 3.1000e+01 ... 2.4985e+02 0.0000e+00 0.0000e+00]]\n"
     ]
    }
   ],
   "source": [
    "#X=data.drop([\"cbwd\",'No',],axis=1) #命x为去掉pm2.5和 风向的表格\n",
    "#print(X)\n",
    "X = np.loadtxt(\"data02.csv\", delimiter=\",\",skiprows=1)\n",
    "print(X)"
   ]
  },
  {
   "cell_type": "code",
   "execution_count": 116,
   "metadata": {},
   "outputs": [
    {
     "data": {
      "text/plain": [
       "(-1.648244681789633e-14, 0.9999999999999186)"
      ]
     },
     "execution_count": 116,
     "metadata": {},
     "output_type": "execute_result"
    }
   ],
   "source": [
    "n, p = X.shape\n",
    "Xn = (X - np.mean(X, axis=0)) / np.std(X, axis=0) #Center and reduce the column vectors\n",
    "np.mean(Xn), np.std(Xn)"
   ]
  },
  {
   "cell_type": "code",
   "execution_count": 121,
   "metadata": {},
   "outputs": [
    {
     "data": {
      "text/plain": [
       "<matplotlib.colorbar.Colorbar at 0x1284bd450>"
      ]
     },
     "execution_count": 121,
     "metadata": {},
     "output_type": "execute_result"
    },
    {
     "data": {
      "image/png": "[encoded data removed]",
      "text/plain": [
       "<Figure size 432x288 with 2 Axes>"
      ]
     },
     "metadata": {
      "needs_background": "light"
     },
     "output_type": "display_data"
    }
   ],
   "source": [
    "C = (Xn.T) @ Xn #calculate correlation matrixs. and show it.\n",
    "plt.imshow(C/n)\n",
    "plt.colorbar()"
   ]
  },
  {
   "cell_type": "code",
   "execution_count": 157,
   "metadata": {},
   "outputs": [
    {
     "name": "stdout",
     "output_type": "stream",
     "text": [
      "[[ 0.03050658 -0.03672363  0.00484977  0.06792449  0.18849663 -0.1285457\n",
      "  -0.34791277 -0.36428273  0.6371124   0.36563105  0.38429808]\n",
      " [ 0.15038004  0.02665139  0.15752774 -0.19487852 -0.10194517 -0.48287296\n",
      "  -0.45172424  0.46254889  0.1295797  -0.45761132  0.16161229]\n",
      " [ 0.0266681  -0.0110766   0.01699753  0.17239638 -0.17351866  0.30317991\n",
      "  -0.37981946 -0.37457379 -0.46541589 -0.29685392  0.50776704]\n",
      " [ 0.04466912 -0.12053495 -0.00399703 -0.27312144 -0.10583526 -0.58956927\n",
      "   0.12004781 -0.11800888 -0.48717048  0.47686708  0.23874006]\n",
      " [ 0.06423207  0.1840439   0.03035817  0.67575008  0.59143623 -0.30442196\n",
      "   0.03432148  0.10060893 -0.21956984 -0.04004268  0.02929672]\n",
      " [ 0.56246001 -0.57244854 -0.57290358  0.06369263  0.08273361  0.0297981\n",
      "  -0.06280337  0.0434613  -0.00928147 -0.05002872 -0.08666722]\n",
      " [ 0.5540233   0.75300739 -0.23837769 -0.19422103 -0.00505628  0.11636736\n",
      "  -0.01156433  0.00644017 -0.02989428  0.12576004  0.03226341]\n",
      " [-0.54146156  0.21581337 -0.76275625  0.06109729 -0.13358643 -0.19146978\n",
      "  -0.0584847   0.02945511  0.04190576 -0.09998989  0.06454339]\n",
      " [-0.20337686 -0.04934464 -0.07627906 -0.56586631  0.72478069  0.20148956\n",
      "  -0.16749644  0.04046175 -0.17136829 -0.05469255  0.04716066]\n",
      " [-0.07094984  0.03858016  0.02863468  0.09246321 -0.08272658  0.00549567\n",
      "  -0.68461785 -0.04979492 -0.19879052  0.31768631 -0.60465777]\n",
      " [ 0.08211691  0.06481793  0.02137795 -0.14895994  0.07812224 -0.35554013\n",
      "   0.10389677 -0.69431851  0.05931511 -0.45557177 -0.36050083]]\n"
     ]
    }
   ],
   "source": [
    "vals, V = np.linalg.eig(C)  #Calculate the matrix's proper factors  𝐶\n",
    "L = np.diag(vals)\n",
    "vals\n",
    "print(V)"
   ]
  },
  {
   "cell_type": "code",
   "execution_count": 119,
   "metadata": {},
   "outputs": [
    {
     "data": {
      "text/plain": [
       "(11,)"
      ]
     },
     "execution_count": 119,
     "metadata": {},
     "output_type": "execute_result"
    }
   ],
   "source": [
    "np.mean(X,axis=0).shape"
   ]
  },
  {
   "cell_type": "code",
   "execution_count": 120,
   "metadata": {},
   "outputs": [
    {
     "data": {
      "image/png": "[encoded data removed]",
      "text/plain": [
       "<Figure size 432x288 with 1 Axes>"
      ]
     },
     "metadata": {
      "needs_background": "light"
     },
     "output_type": "display_data"
    }
   ],
   "source": [
    "vpc = 100 * np.cumsum(vals) / np.sum(vals) #visualize their own values and their importance as a percentage of information\n",
    "plt.bar(np.arange(11), vpc, 0.5)\n",
    "plt.plot(100*vals/ np.sum(vals), 'r-o')\n",
    "plt.title(\" proper values\")                    \n",
    "plt.show()"
   ]
  },
  {
   "cell_type": "code",
   "execution_count": 107,
   "metadata": {},
   "outputs": [
    {
     "name": "stdout",
     "output_type": "stream",
     "text": [
      "[[-1.91940449  0.0631038   0.52297283 ...  0.48368689 -0.21821592\n",
      "  -1.8335896 ]\n",
      " [-1.8643746   0.04313989  0.48760097 ...  0.36429635 -0.16206437\n",
      "  -1.79822481]\n",
      " [-1.7960905  -0.15269948  0.27604221 ...  0.2685831  -0.13286767\n",
      "  -1.77980396]\n",
      " ...\n",
      " [-3.12554498 -0.24229135 -0.14540654 ... -0.80654329 -0.49444697\n",
      "   2.4848153 ]\n",
      " [-3.18247244 -0.32954277 -0.13324438 ... -0.88355353 -0.43947348\n",
      "   2.51982606]\n",
      " [-3.10158645 -0.31987717 -0.19658614 ... -0.97735575 -0.36893656\n",
      "   2.55519583]]\n"
     ]
    }
   ],
   "source": [
    "U = Xn@V  #Calculate the main components\n",
    "print(U)"
   ]
  },
  {
   "cell_type": "code",
   "execution_count": 165,
   "metadata": {},
   "outputs": [
    {
     "data": {
      "image/png": "[encoded data removed]",
      "text/plain": [
       "<Figure size 360x360 with 1 Axes>"
      ]
     },
     "metadata": {
      "needs_background": "light"
     },
     "output_type": "display_data"
    }
   ],
   "source": [
    "plt.figure(figsize=(5,5))\n",
    "plt.title('presentation of dot cloud with two axes of PCA')\n",
    "plt.plot(U[:, 0], U[:, 3],'o');\n",
    "plt.xlabel('axe 0');\n",
    "plt.ylabel('axe 3');\n",
    "\n"
   ]
  },
  {
   "cell_type": "code",
   "execution_count": 163,
   "metadata": {},
   "outputs": [
    {
     "data": {
      "text/plain": [
       "Text(0, 0.5, 'axe 3')"
      ]
     },
     "execution_count": 163,
     "metadata": {},
     "output_type": "execute_result"
    },
    {
     "data": {
      "image/png": "[encoded data removed]",
      "text/plain": [
       "<Figure size 360x360 with 1 Axes>"
      ]
     },
     "metadata": {
      "needs_background": "light"
     },
     "output_type": "display_data"
    }
   ],
   "source": [
    "Vn = V@np.sqrt(L) / np.sqrt(n)\n",
    "plt.figure(figsize=(5,5))\n",
    "a = np.linspace(0, 2*np.pi, 100)\n",
    "\n",
    "plt.plot(Vn[:, 0], Vn[:, 1],'*')\n",
    "\n",
    "for i in range(p):\n",
    "    plt.text(Vn[i, 0], Vn[i, 1],'v'+str(i))\n",
    "\n",
    "\n",
    "plt.plot(np.cos(a),np.sin(a),'-')\n",
    "plt.xlabel('axe 0')\n",
    "plt.ylabel('axe 3')\n",
    "\n"
   ]
  },
  {
   "cell_type": "code",
   "execution_count": 158,
   "metadata": {},
   "outputs": [
    {
     "data": {
      "text/plain": [
       "Text(0.5, 1.0, 'Error of the reconstruction by PCA')"
      ]
     },
     "execution_count": 158,
     "metadata": {},
     "output_type": "execute_result"
    },
    {
     "data": {
      "image/png": "[encoded data removed]",
      "text/plain": [
       "<Figure size 432x288 with 1 Axes>"
      ]
     },
     "metadata": {
      "needs_background": "light"
     },
     "output_type": "display_data"
    }
   ],
   "source": [
    "diff = np.zeros((p+1,))\n",
    "diff[0] = np.sum(Xn**2)\n",
    "for i in range(0, p):\n",
    "    diff[i+1] = np.sum((Xn - (U[:,:i+1]@V[:,:i+1].T))**2)\n",
    "plt.plot(diff, '-o')\n",
    "plt.plot(np.cumsum(vals), 'r-o')\n",
    "plt.title(\"Error of the reconstruction by PCA\")"
   ]
  },
  {
   "cell_type": "code",
   "execution_count": 114,
   "metadata": {},
   "outputs": [
    {
     "name": "stdout",
     "output_type": "stream",
     "text": [
      "[ 25.19422789  26.12996274  27.86274482  39.63805125  46.01639768\n",
      "  54.38138161  62.88593967  71.62368876  80.92277084  90.49407506\n",
      " 100.        ]\n"
     ]
    }
   ],
   "source": [
    "print(vpc)"
   ]
  },
  {
   "cell_type": "code",
   "execution_count": 159,
   "metadata": {},
   "outputs": [
    {
     "name": "stdout",
     "output_type": "stream",
     "text": [
      "[0.7529861 0.1976071]\n"
     ]
    }
   ],
   "source": [
    "from sklearn.decomposition import PCA\n",
    "pca = PCA(n_components=2)\n",
    "pca.fit(X)\n",
    "print(pca.explained_variance_ratio_)"
   ]
  },
  {
   "cell_type": "code",
   "execution_count": 127,
   "metadata": {},
   "outputs": [
    {
     "data": {
      "text/plain": [
       "array([[-1.17726524e-04, -8.83117145e-04,  7.70159865e-03,\n",
       "        -2.11564376e-03,  9.83136971e-01,  3.07971967e-02,\n",
       "        -9.16842969e-03, -7.35318175e-03, -1.79694057e-01,\n",
       "         1.37079413e-04, -7.36392702e-04],\n",
       "       [-2.24196075e-03, -2.00825706e-04,  4.29669357e-03,\n",
       "         7.35346334e-03,  1.81022947e-01, -8.56223247e-02,\n",
       "        -5.79700968e-02,  4.46547531e-02,  9.76967831e-01,\n",
       "         5.32683750e-04, -9.50611954e-04]])"
      ]
     },
     "execution_count": 127,
     "metadata": {},
     "output_type": "execute_result"
    }
   ],
   "source": [
    "pca.components_"
   ]
  },
  {
   "cell_type": "code",
   "execution_count": 128,
   "metadata": {},
   "outputs": [
    {
     "data": {
      "image/png": "[encoded data removed]",
      "text/plain": [
       "<Figure size 432x288 with 1 Axes>"
      ]
     },
     "metadata": {
      "needs_background": "light"
     },
     "output_type": "display_data"
    }
   ],
   "source": [
    "X_new = pca.transform(X)\n",
    "plt.scatter(X_new[:, 0], X_new[:, 1],marker='o')\n",
    "plt.show()"
   ]
  },
  {
   "cell_type": "code",
   "execution_count": null,
   "metadata": {},
   "outputs": [],
   "source": []
  }
 ],
 "metadata": {
  "kernelspec": {
   "display_name": "Python 3",
   "language": "python",
   "name": "python3"
  },
  "language_info": {
   "codemirror_mode": {
    "name": "ipython",
    "version": 3
   },
   "file_extension": ".py",
   "mimetype": "text/x-python",
   "name": "python",
   "nbconvert_exporter": "python",
   "pygments_lexer": "ipython3",
   "version": "3.7.4"
  }
 },
 "nbformat": 4,
 "nbformat_minor": 2
}
